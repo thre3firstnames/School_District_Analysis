{
 "cells": [
  {
   "cell_type": "code",
   "execution_count": 9,
   "metadata": {},
   "outputs": [],
   "source": [
    "# Import Dependencies\n",
    "import pandas as pd"
   ]
  },
  {
   "cell_type": "code",
   "execution_count": 11,
   "metadata": {},
   "outputs": [
    {
     "data": {
      "text/html": [
       "<div>\n",
       "<style scoped>\n",
       "    .dataframe tbody tr th:only-of-type {\n",
       "        vertical-align: middle;\n",
       "    }\n",
       "\n",
       "    .dataframe tbody tr th {\n",
       "        vertical-align: top;\n",
       "    }\n",
       "\n",
       "    .dataframe thead th {\n",
       "        text-align: right;\n",
       "    }\n",
       "</style>\n",
       "<table border=\"1\" class=\"dataframe\">\n",
       "  <thead>\n",
       "    <tr style=\"text-align: right;\">\n",
       "      <th></th>\n",
       "      <th>Address</th>\n",
       "      <th>Case Number</th>\n",
       "      <th>Crime Against</th>\n",
       "      <th>Neighborhood</th>\n",
       "      <th>Number of Records</th>\n",
       "      <th>Occur Date</th>\n",
       "      <th>Occur Month Year</th>\n",
       "      <th>Occur Time</th>\n",
       "      <th>Offense Category</th>\n",
       "      <th>Offense Count</th>\n",
       "      <th>Offense Type</th>\n",
       "      <th>Open Data Lat</th>\n",
       "      <th>Open Data Lon</th>\n",
       "      <th>Open Data X</th>\n",
       "      <th>Open Data Y</th>\n",
       "      <th>Report Date</th>\n",
       "      <th>Report Month Year</th>\n",
       "    </tr>\n",
       "  </thead>\n",
       "  <tbody>\n",
       "    <tr>\n",
       "      <th>0</th>\n",
       "      <td>NaN</td>\n",
       "      <td>17-X4762181</td>\n",
       "      <td>Person</td>\n",
       "      <td>NaN</td>\n",
       "      <td>1</td>\n",
       "      <td>1/1/96</td>\n",
       "      <td>1/1/96</td>\n",
       "      <td>800</td>\n",
       "      <td>Sex Offenses</td>\n",
       "      <td>1</td>\n",
       "      <td>Rape</td>\n",
       "      <td>NaN</td>\n",
       "      <td>NaN</td>\n",
       "      <td>NaN</td>\n",
       "      <td>NaN</td>\n",
       "      <td>1/26/17</td>\n",
       "      <td>1/1/17</td>\n",
       "    </tr>\n",
       "    <tr>\n",
       "      <th>1</th>\n",
       "      <td>NaN</td>\n",
       "      <td>17-X4757824</td>\n",
       "      <td>Property</td>\n",
       "      <td>Centennial</td>\n",
       "      <td>1</td>\n",
       "      <td>1/20/00</td>\n",
       "      <td>1/1/00</td>\n",
       "      <td>1615</td>\n",
       "      <td>Fraud Offenses</td>\n",
       "      <td>1</td>\n",
       "      <td>Identity Theft</td>\n",
       "      <td>NaN</td>\n",
       "      <td>NaN</td>\n",
       "      <td>NaN</td>\n",
       "      <td>NaN</td>\n",
       "      <td>1/20/17</td>\n",
       "      <td>1/1/17</td>\n",
       "    </tr>\n",
       "    <tr>\n",
       "      <th>2</th>\n",
       "      <td>200 BLOCK OF SE 78TH AVE</td>\n",
       "      <td>17-900367</td>\n",
       "      <td>Property</td>\n",
       "      <td>Montavilla</td>\n",
       "      <td>1</td>\n",
       "      <td>12/1/03</td>\n",
       "      <td>12/1/03</td>\n",
       "      <td>800</td>\n",
       "      <td>Fraud Offenses</td>\n",
       "      <td>1</td>\n",
       "      <td>False Pretenses/Swindle/Confidence Game</td>\n",
       "      <td>45.5207</td>\n",
       "      <td>-122.583</td>\n",
       "      <td>7668150.0</td>\n",
       "      <td>682825.0</td>\n",
       "      <td>1/9/17</td>\n",
       "      <td>1/1/17</td>\n",
       "    </tr>\n",
       "    <tr>\n",
       "      <th>3</th>\n",
       "      <td>NaN</td>\n",
       "      <td>17-X4748982</td>\n",
       "      <td>Property</td>\n",
       "      <td>Southwest Hills</td>\n",
       "      <td>1</td>\n",
       "      <td>1/1/10</td>\n",
       "      <td>1/1/10</td>\n",
       "      <td>0</td>\n",
       "      <td>Fraud Offenses</td>\n",
       "      <td>1</td>\n",
       "      <td>Identity Theft</td>\n",
       "      <td>NaN</td>\n",
       "      <td>NaN</td>\n",
       "      <td>NaN</td>\n",
       "      <td>NaN</td>\n",
       "      <td>1/5/17</td>\n",
       "      <td>1/1/17</td>\n",
       "    </tr>\n",
       "    <tr>\n",
       "      <th>4</th>\n",
       "      <td>NaN</td>\n",
       "      <td>17-X4748982</td>\n",
       "      <td>Property</td>\n",
       "      <td>Southwest Hills</td>\n",
       "      <td>1</td>\n",
       "      <td>1/1/10</td>\n",
       "      <td>1/1/10</td>\n",
       "      <td>0</td>\n",
       "      <td>Larceny Offenses</td>\n",
       "      <td>1</td>\n",
       "      <td>All Other Larceny</td>\n",
       "      <td>NaN</td>\n",
       "      <td>NaN</td>\n",
       "      <td>NaN</td>\n",
       "      <td>NaN</td>\n",
       "      <td>1/5/17</td>\n",
       "      <td>1/1/17</td>\n",
       "    </tr>\n",
       "  </tbody>\n",
       "</table>\n",
       "</div>"
      ],
      "text/plain": [
       "                    Address  Case Number Crime Against     Neighborhood  \\\n",
       "0                       NaN  17-X4762181        Person              NaN   \n",
       "1                       NaN  17-X4757824      Property       Centennial   \n",
       "2  200 BLOCK OF SE 78TH AVE    17-900367      Property       Montavilla   \n",
       "3                       NaN  17-X4748982      Property  Southwest Hills   \n",
       "4                       NaN  17-X4748982      Property  Southwest Hills   \n",
       "\n",
       "   Number of Records Occur Date Occur Month Year  Occur Time  \\\n",
       "0                  1     1/1/96           1/1/96         800   \n",
       "1                  1    1/20/00           1/1/00        1615   \n",
       "2                  1    12/1/03          12/1/03         800   \n",
       "3                  1     1/1/10           1/1/10           0   \n",
       "4                  1     1/1/10           1/1/10           0   \n",
       "\n",
       "   Offense Category  Offense Count                             Offense Type  \\\n",
       "0      Sex Offenses              1                                     Rape   \n",
       "1    Fraud Offenses              1                           Identity Theft   \n",
       "2    Fraud Offenses              1  False Pretenses/Swindle/Confidence Game   \n",
       "3    Fraud Offenses              1                           Identity Theft   \n",
       "4  Larceny Offenses              1                        All Other Larceny   \n",
       "\n",
       "   Open Data Lat  Open Data Lon  Open Data X  Open Data Y Report Date  \\\n",
       "0            NaN            NaN          NaN          NaN     1/26/17   \n",
       "1            NaN            NaN          NaN          NaN     1/20/17   \n",
       "2        45.5207       -122.583    7668150.0     682825.0      1/9/17   \n",
       "3            NaN            NaN          NaN          NaN      1/5/17   \n",
       "4            NaN            NaN          NaN          NaN      1/5/17   \n",
       "\n",
       "  Report Month Year  \n",
       "0            1/1/17  \n",
       "1            1/1/17  \n",
       "2            1/1/17  \n",
       "3            1/1/17  \n",
       "4            1/1/17  "
      ]
     },
     "execution_count": 11,
     "metadata": {},
     "output_type": "execute_result"
    }
   ],
   "source": [
    "# Reference the file where the CSV is located\n",
    "crime_file=\"Resources/crime_incident_data2017.csv\"\n",
    "# Import the data into a Pandas DataFrame\n",
    "crime_df=pd.read_csv(crime_file)\n",
    "crime_df.head()"
   ]
  },
  {
   "cell_type": "code",
   "execution_count": 16,
   "metadata": {},
   "outputs": [
    {
     "data": {
      "text/plain": [
       "Address              3667\n",
       "Case Number             0\n",
       "Crime Against           0\n",
       "Neighborhood         1320\n",
       "Number of Records       0\n",
       "Occur Date              0\n",
       "Occur Month Year        0\n",
       "Occur Time              0\n",
       "Offense Category        0\n",
       "Offense Count           0\n",
       "Offense Type            0\n",
       "Open Data Lat        4320\n",
       "Open Data Lon        4320\n",
       "Open Data X          4320\n",
       "Open Data Y          4320\n",
       "Report Date             0\n",
       "Report Month Year       0\n",
       "dtype: int64"
      ]
     },
     "execution_count": 16,
     "metadata": {},
     "output_type": "execute_result"
    }
   ],
   "source": [
    "# look for missing values\n",
    "crime_df.isnull().sum()"
   ]
  },
  {
   "cell_type": "code",
   "execution_count": 20,
   "metadata": {},
   "outputs": [],
   "source": [
    "# drop null rows\n",
    "df_clean=crime_df.dropna()"
   ]
  },
  {
   "cell_type": "code",
   "execution_count": 22,
   "metadata": {},
   "outputs": [
    {
     "data": {
      "text/plain": [
       "Address              36146\n",
       "Case Number          36146\n",
       "Crime Against        36146\n",
       "Neighborhood         36146\n",
       "Number of Records    36146\n",
       "Occur Date           36146\n",
       "Occur Month Year     36146\n",
       "Occur Time           36146\n",
       "Offense Category     36146\n",
       "Offense Count        36146\n",
       "Offense Type         36146\n",
       "Open Data Lat        36146\n",
       "Open Data Lon        36146\n",
       "Open Data X          36146\n",
       "Open Data Y          36146\n",
       "Report Date          36146\n",
       "Report Month Year    36146\n",
       "dtype: int64"
      ]
     },
     "execution_count": 22,
     "metadata": {},
     "output_type": "execute_result"
    }
   ],
   "source": [
    "# verify counts\n",
    "df_clean.count()"
   ]
  },
  {
   "cell_type": "code",
   "execution_count": 24,
   "metadata": {
    "scrolled": true
   },
   "outputs": [
    {
     "data": {
      "text/plain": [
       "Theft From Motor Vehicle                       6947\n",
       "Motor Vehicle Theft                            4689\n",
       "All Other Larceny                              4558\n",
       "Vandalism                                      3863\n",
       "Burglary                                       2824\n",
       "Shoplifting                                    2259\n",
       "Identity Theft                                 1794\n",
       "Simple Assault                                 1216\n",
       "Drug/Narcotic Violations                       1095\n",
       "Theft of Motor Vehicle Parts or Accessories    1073\n",
       "Intimidation                                    900\n",
       "Theft From Building                             895\n",
       "False Pretenses/Swindle/Confidence Game         870\n",
       "Aggravated Assault                              839\n",
       "Robbery                                         608\n",
       "Counterfeiting/Forgery                          448\n",
       "Weapons Law Violations                          266\n",
       "Credit Card/ATM Fraud                           226\n",
       "Arson                                           200\n",
       "Prostitution                                    145\n",
       "Pocket-Picking                                   94\n",
       "Purse-Snatching                                  89\n",
       "Embezzlement                                     73\n",
       "Stolen Property Offenses                         57\n",
       "Kidnapping/Abduction                             22\n",
       "Theft From Coin-Operated Machine or Device       20\n",
       "Hacking/Computer Invasion                        19\n",
       "Animal Cruelty                                   17\n",
       "Pornography/Obscene Material                     10\n",
       "Extortion/Blackmail                               8\n",
       "Assisting or Promoting Prostitution               7\n",
       "Drug Equipment Violations                         6\n",
       "Impersonation                                     4\n",
       "Wire Fraud                                        3\n",
       "Commercial Sex Acts                               1\n",
       "Welfare Fraud                                     1\n",
       "Name: Offense Type, dtype: int64"
      ]
     },
     "execution_count": 24,
     "metadata": {},
     "output_type": "execute_result"
    }
   ],
   "source": [
    "# Check to see if there are any values with mispelled or similar values in \"Offense Type\"\n",
    "df_clean[\"Offense Type\"].value_counts()"
   ]
  },
  {
   "cell_type": "code",
   "execution_count": 27,
   "metadata": {},
   "outputs": [
    {
     "data": {
      "text/plain": [
       "Motor Vehicle Theft                           12709\n",
       "All Other Larceny                              4558\n",
       "Vandalism                                      3863\n",
       "Burglary                                       2824\n",
       "Shoplifting                                    2259\n",
       "Identity Theft                                 1794\n",
       "Simple Assault                                 1216\n",
       "Drug/Narcotic Violations                       1095\n",
       "Intimidation                                    900\n",
       "Theft From Building                             895\n",
       "False Pretenses/Swindle/Confidence Game         870\n",
       "Aggravated Assault                              839\n",
       "Robbery                                         608\n",
       "Counterfeiting/Forgery                          448\n",
       "Weapons Law Violations                          266\n",
       "Credit Card/ATM Fraud                           226\n",
       "Arson                                           200\n",
       "Prostitution                                    145\n",
       "Pocket-Picking                                   94\n",
       "Purse-Snatching                                  89\n",
       "Embezzlement                                     73\n",
       "Stolen Property Offenses                         57\n",
       "Kidnapping/Abduction                             22\n",
       "Theft From Coin-Operated Machine or Device       20\n",
       "Hacking/Computer Invasion                        19\n",
       "Animal Cruelty                                   17\n",
       "Pornography/Obscene Material                     10\n",
       "Extortion/Blackmail                               8\n",
       "Assisting or Promoting Prostitution               7\n",
       "Drug Equipment Violations                         6\n",
       "Impersonation                                     4\n",
       "Wire Fraud                                        3\n",
       "Commercial Sex Acts                               1\n",
       "Welfare Fraud                                     1\n",
       "Name: Offense Type, dtype: int64"
      ]
     },
     "execution_count": 27,
     "metadata": {},
     "output_type": "execute_result"
    }
   ],
   "source": [
    "# Combine similar offenses\n",
    "df_clean[\"Offense Type\"]=df_clean[\"Offense Type\"].replace({\n",
    "    \"Theft From Motor Vehicle\": \"Motor Vehicle Theft\",\n",
    "    \"Theft of Motor Vehicle Parts or Accessories\":\"Motor Vehicle Theft\",\n",
    "})\n",
    "df_clean[\"Offense Type\"].value_counts()"
   ]
  },
  {
   "cell_type": "code",
   "execution_count": null,
   "metadata": {},
   "outputs": [],
   "source": [
    "# Check to see if you comnbined similar offenses correctly in \"Offense Type\"."
   ]
  }
 ],
 "metadata": {
  "kernelspec": {
   "display_name": "PythonData",
   "language": "python",
   "name": "pythondata"
  },
  "language_info": {
   "codemirror_mode": {
    "name": "ipython",
    "version": 3
   },
   "file_extension": ".py",
   "mimetype": "text/x-python",
   "name": "python",
   "nbconvert_exporter": "python",
   "pygments_lexer": "ipython3",
   "version": "3.7.11"
  }
 },
 "nbformat": 4,
 "nbformat_minor": 2
}
