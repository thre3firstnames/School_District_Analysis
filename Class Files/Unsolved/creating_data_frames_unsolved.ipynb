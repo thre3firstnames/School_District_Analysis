version https://git-lfs.github.com/spec/v1
oid sha256:599bdcbcc09fa5e9dcd2fd34b4dec50d8bfe6cc99d65fadfb15693cdc3f98fe9
size 8521
